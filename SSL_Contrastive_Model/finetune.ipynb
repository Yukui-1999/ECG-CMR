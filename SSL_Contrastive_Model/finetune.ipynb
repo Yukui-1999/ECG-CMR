{
 "cells": [
  {
   "cell_type": "code",
   "execution_count": 1,
   "metadata": {},
   "outputs": [],
   "source": [
    "import torch\n",
    "import torch.nn as nn\n",
    "from modeling.green_swin_models import SwinTransformer\n",
    "from functools import partial\n",
    "from modeling.swin_transformer import build_swin\n",
    "from util.extract_backbone import load_pretrained"
   ]
  },
  {
   "cell_type": "code",
   "execution_count": 2,
   "metadata": {},
   "outputs": [],
   "source": [
    "class Config:\n",
    "    class DATA:\n",
    "        IMG_SIZE = 224  # 图像大小\n",
    "    class MODEL:\n",
    "        NUM_CLASSES = 256  # 分类数\n",
    "        class SWIN:\n",
    "            PATCH_SIZE = 4\n",
    "            IN_CHANS = 50\n",
    "            EMBED_DIM = 128\n",
    "            DEPTHS = [2, 2, 18, 2]\n",
    "            NUM_HEADS = [4, 8, 16, 32]\n",
    "            WINDOW_SIZE = 7\n",
    "            MLP_RATIO = 4.0\n",
    "            QKV_BIAS = True\n",
    "            QK_SCALE = None\n",
    "            APE = False\n",
    "            PATCH_NORM = True\n",
    "        DROP_RATE = 0.1\n",
    "        DROP_PATH_RATE = 0.1\n",
    "    class TRAIN:\n",
    "        USE_CHECKPOINT = False\n",
    "\n",
    "# 创建一个配置对象\n",
    "config = Config()\n"
   ]
  },
  {
   "cell_type": "code",
   "execution_count": 3,
   "metadata": {},
   "outputs": [
    {
     "name": "stderr",
     "output_type": "stream",
     "text": [
      "/data/Anaconda3/envs/pl/lib/python3.9/site-packages/torch/functional.py:504: UserWarning: torch.meshgrid: in an upcoming release, it will be required to pass the indexing argument. (Triggered internally at ../aten/src/ATen/native/TensorShape.cpp:3526.)\n",
      "  return _VF.meshgrid(tensors, **kwargs)  # type: ignore[attr-defined]\n"
     ]
    }
   ],
   "source": [
    "encoder = build_swin(config)"
   ]
  },
  {
   "cell_type": "code",
   "execution_count": 4,
   "metadata": {},
   "outputs": [
    {
     "name": "stdout",
     "output_type": "stream",
     "text": [
      ">>>>>>>>>> Load from /mnt/data2/dingzhengyao/work/checkpoint/Newproject_v1/checkpoint-30.pth ..........\n",
      "Detect pre-trained model, remove [encoder.] prefix.\n",
      ">>>>>>>>>> Remapping pre-trained keys for SWIN ..........\n",
      "_IncompatibleKeys(missing_keys=['layers.0.blocks.0.attn.relative_position_index', 'layers.0.blocks.1.attn_mask', 'layers.0.blocks.1.attn.relative_position_index', 'layers.1.blocks.0.attn.relative_position_index', 'layers.1.blocks.1.attn_mask', 'layers.1.blocks.1.attn.relative_position_index', 'layers.2.blocks.0.attn.relative_position_index', 'layers.2.blocks.1.attn_mask', 'layers.2.blocks.1.attn.relative_position_index', 'layers.2.blocks.2.attn.relative_position_index', 'layers.2.blocks.3.attn_mask', 'layers.2.blocks.3.attn.relative_position_index', 'layers.2.blocks.4.attn.relative_position_index', 'layers.2.blocks.5.attn_mask', 'layers.2.blocks.5.attn.relative_position_index', 'layers.2.blocks.6.attn.relative_position_index', 'layers.2.blocks.7.attn_mask', 'layers.2.blocks.7.attn.relative_position_index', 'layers.2.blocks.8.attn.relative_position_index', 'layers.2.blocks.9.attn_mask', 'layers.2.blocks.9.attn.relative_position_index', 'layers.2.blocks.10.attn.relative_position_index', 'layers.2.blocks.11.attn_mask', 'layers.2.blocks.11.attn.relative_position_index', 'layers.2.blocks.12.attn.relative_position_index', 'layers.2.blocks.13.attn_mask', 'layers.2.blocks.13.attn.relative_position_index', 'layers.2.blocks.14.attn.relative_position_index', 'layers.2.blocks.15.attn_mask', 'layers.2.blocks.15.attn.relative_position_index', 'layers.2.blocks.16.attn.relative_position_index', 'layers.2.blocks.17.attn_mask', 'layers.2.blocks.17.attn.relative_position_index', 'layers.3.blocks.0.attn.relative_position_index', 'layers.3.blocks.1.attn.relative_position_index', 'head.weight', 'head.bias'], unexpected_keys=[])\n",
      ">>>>>>>>>> loaded successfully '/mnt/data2/dingzhengyao/work/checkpoint/Newproject_v1/checkpoint-30.pth'\n"
     ]
    }
   ],
   "source": [
    "load_pretrained(ckpt_path=\"/mnt/data2/dingzhengyao/work/checkpoint/Newproject_v1/checkpoint-30.pth\",model=encoder)"
   ]
  },
  {
   "cell_type": "code",
   "execution_count": 7,
   "metadata": {},
   "outputs": [
    {
     "name": "stdout",
     "output_type": "stream",
     "text": [
      "torch.Size([1, 256])\n"
     ]
    }
   ],
   "source": [
    "input = torch.randn(1, 50, 224, 224)\n",
    "out = encoder(input)\n",
    "print(out.shape)"
   ]
  },
  {
   "cell_type": "code",
   "execution_count": 2,
   "metadata": {},
   "outputs": [
    {
     "name": "stdout",
     "output_type": "stream",
     "text": [
      "AUC: 0.75\n"
     ]
    },
    {
     "name": "stderr",
     "output_type": "stream",
     "text": [
      "/data/Anaconda3/envs/ctcta/lib/python3.8/site-packages/torch/nn/functional.py:1967: UserWarning: nn.functional.sigmoid is deprecated. Use torch.sigmoid instead.\n",
      "  warnings.warn(\"nn.functional.sigmoid is deprecated. Use torch.sigmoid instead.\")\n"
     ]
    }
   ],
   "source": [
    "from sklearn.metrics import roc_auc_score\n",
    "import numpy as np\n",
    "import torch.nn.functional as F\n",
    "import torch\n",
    "# 假设output是logits，需要通过sigmoid转换为概率\n",
    "output_logits = np.array([0.2, -1.5, 1.2, 0.7])\n",
    "output_prob = F.sigmoid(torch.tensor(output_logits)).numpy()\n",
    "\n",
    "# 假设label是实际的二分类标签\n",
    "label = np.array([1, 0, 1, 0])\n",
    "\n",
    "# 计算AUC\n",
    "auc = roc_auc_score(label, output_prob)\n",
    "print(f\"AUC: {auc}\")\n"
   ]
  },
  {
   "cell_type": "code",
   "execution_count": 4,
   "metadata": {},
   "outputs": [
    {
     "name": "stdout",
     "output_type": "stream",
     "text": [
      "AUC: 0.75\n"
     ]
    }
   ],
   "source": [
    "from sklearn.metrics import roc_auc_score\n",
    "import numpy as np\n",
    "\n",
    "# 假设output是logits\n",
    "output_logits = np.array([0.2, -1.5, 1.2, 0.7])\n",
    "\n",
    "# 假设label是实际的二分类标签\n",
    "label = np.array([1, 0, 1, 0])\n",
    "\n",
    "# 计算AUC\n",
    "auc = roc_auc_score(label, output_logits)\n",
    "print(f\"AUC: {auc}\")\n"
   ]
  },
  {
   "cell_type": "code",
   "execution_count": 2,
   "metadata": {},
   "outputs": [
    {
     "name": "stdout",
     "output_type": "stream",
     "text": [
      "ROC AUC Score: 1.0\n"
     ]
    }
   ],
   "source": [
    "from sklearn.metrics import roc_auc_score\n",
    "import numpy as np\n",
    "\n",
    "# 假设 logits 是你的模型输出\n",
    "logits = np.array([1.2, -0.5, 0.3, -1.2, 2.4])\n",
    "\n",
    "# 使用 sigmoid 函数将 logits 转换为概率\n",
    "# probabilities = 1 / (1 + np.exp(-logits))\n",
    "\n",
    "# 假设 y_true 是真实的标签\n",
    "y_true = np.array([1, 0, 1, 0, 1])\n",
    "\n",
    "# 计算 ROC AUC 分数\n",
    "roc_auc = roc_auc_score(y_true, logits)\n",
    "print(f\"ROC AUC Score: {roc_auc}\")\n"
   ]
  }
 ],
 "metadata": {
  "kernelspec": {
   "display_name": "pl",
   "language": "python",
   "name": "python3"
  },
  "language_info": {
   "codemirror_mode": {
    "name": "ipython",
    "version": 3
   },
   "file_extension": ".py",
   "mimetype": "text/x-python",
   "name": "python",
   "nbconvert_exporter": "python",
   "pygments_lexer": "ipython3",
   "version": "3.8.16"
  }
 },
 "nbformat": 4,
 "nbformat_minor": 2
}
